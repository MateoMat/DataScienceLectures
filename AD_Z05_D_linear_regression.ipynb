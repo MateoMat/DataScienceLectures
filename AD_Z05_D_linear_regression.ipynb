{
 "cells": [
  {
   "cell_type": "code",
   "execution_count": 7,
   "metadata": {},
   "outputs": [],
   "source": [
    "import numpy as np\n",
    "import pandas as pd\n",
    "import matplotlib.pyplot as plt\n",
    "import statsmodels.api as sm"
   ]
  },
  {
   "cell_type": "markdown",
   "metadata": {},
   "source": [
    "W poniższym przykładzie posłużymy się zestawem danych reklamowych, obejmującym sprzedaż produktów i ich budżet reklamowy w trzech różnych mediach telewizyjnych, radiu, gazetach."
   ]
  },
  {
   "cell_type": "code",
   "execution_count": 9,
   "metadata": {},
   "outputs": [],
   "source": [
    "df_adv = pd.read_csv('https://raw.githubusercontent.com/przem85/bootcamp/master/statistics/Advertising.csv', index_col=0)\n",
    "# X = df_adv[['TV', 'radio']]\n",
    "# y = df_adv['sales']\n",
    "# df_adv.head()\n",
    "## fit a OLS model with intercept on TV and Radio\n",
    "#X = sm.add_constant(X)\n",
    "#est = sm.OLS(y, X).fit()\n",
    "#est.summary()"
   ]
  },
  {
   "cell_type": "markdown",
   "metadata": {},
   "source": [
    "# Zad\n",
    "Proszę narysować dane za pomoca \n",
    "```python\n",
    "sns.pairplot()\n",
    "```"
   ]
  },
  {
   "cell_type": "code",
   "execution_count": null,
   "metadata": {},
   "outputs": [],
   "source": []
  },
  {
   "cell_type": "markdown",
   "metadata": {},
   "source": [
    "# Zad\n",
    "Proszę wyrysować dane za pomoca \n",
    "```python\n",
    "sns.heatmap()\n",
    "```"
   ]
  },
  {
   "cell_type": "code",
   "execution_count": null,
   "metadata": {},
   "outputs": [],
   "source": []
  },
  {
   "cell_type": "markdown",
   "metadata": {},
   "source": [
    "# Zadanie 1 - Konkurs\n",
    "Wykonaj model pozwalający przewidzieć zmienną \"Sales\" na podstawie innych zmiennych.\n"
   ]
  },
  {
   "cell_type": "code",
   "execution_count": 22,
   "metadata": {},
   "outputs": [
    {
     "name": "stdout",
     "output_type": "stream",
     "text": [
      "                                                       Results: Ordinary least squares\n",
      "==============================================================================================================================================\n",
      "Model:                                        OLS                                       Adj. R-squared:                              0.997    \n",
      "Dependent Variable:                           sales                                     AIC:                                         136.1007 \n",
      "Date:                                         2019-11-08 14:47                          BIC:                                         413.1594 \n",
      "No. Observations:                             200                                       Log-Likelihood:                              15.950   \n",
      "Df Model:                                     83                                        F-statistic:                                 756.9    \n",
      "Df Residuals:                                 116                                       Prob (F-statistic):                          1.79e-131\n",
      "R-squared:                                    0.998                                     Scale:                                       0.086066 \n",
      "----------------------------------------------------------------------------------------------------------------------------------------------\n",
      "                                                                                                 Coef.  Std.Err.    t    P>|t|   [0.025 0.975]\n",
      "----------------------------------------------------------------------------------------------------------------------------------------------\n",
      "Intercept                                                                                        0.0001   0.0002  0.6541 0.5143 -0.0003 0.0005\n",
      "I(newspaper)                                                                                    -0.0000   0.0002 -0.0743 0.9409 -0.0005 0.0005\n",
      "I(TV)                                                                                            0.0020   0.0035  0.5757 0.5659 -0.0050 0.0091\n",
      "I(newspaper):I(TV)                                                                               0.0161   0.0304  0.5279 0.5986 -0.0442 0.0763\n",
      "I(radio)                                                                                        -0.0003   0.0004 -0.6748 0.5011 -0.0011 0.0005\n",
      "I(newspaper):I(radio)                                                                            0.0004   0.0010  0.3504 0.7267 -0.0017 0.0024\n",
      "I(TV):I(radio)                                                                                   0.0039   0.0141  0.2748 0.7840 -0.0241 0.0319\n",
      "I(newspaper):I(TV):I(radio)                                                                      0.0565   0.1529  0.3694 0.7125 -0.2464 0.3594\n",
      "I(TV ** 1.25)                                                                                   -0.0000   0.0001 -0.2792 0.7806 -0.0001 0.0001\n",
      "I(newspaper):I(TV ** 1.25)                                                                      -0.0000   0.0000 -0.6538 0.5145 -0.0000 0.0000\n",
      "I(TV):I(TV ** 1.25)                                                                              0.0002   0.0001  2.0674 0.0409  0.0000 0.0005\n",
      "I(newspaper):I(TV):I(TV ** 1.25)                                                                -0.0000   0.0001 -0.2345 0.8150 -0.0001 0.0001\n",
      "I(radio):I(TV ** 1.25)                                                                          -0.0000   0.0000 -0.6562 0.5130 -0.0000 0.0000\n",
      "I(newspaper):I(radio):I(TV ** 1.25)                                                             -0.0000   0.0000 -0.6410 0.5228 -0.0000 0.0000\n",
      "I(TV):I(radio):I(TV ** 1.25)                                                                    -0.0001   0.0000 -1.3269 0.1872 -0.0001 0.0000\n",
      "I(newspaper):I(TV):I(radio):I(TV ** 1.25)                                                       -0.0001   0.0003 -0.3959 0.6929 -0.0007 0.0005\n",
      "I(radio ** 1.5)                                                                                 -0.0000   0.0003 -0.0721 0.9426 -0.0005 0.0005\n",
      "I(newspaper):I(radio ** 1.5)                                                                    -0.0001   0.0002 -0.3060 0.7602 -0.0006 0.0004\n",
      "I(TV):I(radio ** 1.5)                                                                           -0.0135   0.0335 -0.4026 0.6880 -0.0799 0.0529\n",
      "I(newspaper):I(TV):I(radio ** 1.5)                                                              -0.0119   0.0361 -0.3294 0.7424 -0.0834 0.0596\n",
      "I(radio):I(radio ** 1.5)                                                                         0.0000   0.0000  0.3255 0.7454 -0.0000 0.0001\n",
      "I(newspaper):I(radio):I(radio ** 1.5)                                                            0.0000   0.0000  0.0625 0.9503 -0.0000 0.0000\n",
      "I(TV):I(radio):I(radio ** 1.5)                                                                   0.0013   0.0037  0.3430 0.7322 -0.0061 0.0087\n",
      "I(newspaper):I(TV):I(radio):I(radio ** 1.5)                                                      0.0000   0.0006  0.0713 0.9433 -0.0011 0.0012\n",
      "I(TV ** 1.25):I(radio ** 1.5)                                                                    0.0000   0.0000  0.8867 0.3771 -0.0000 0.0000\n",
      "I(newspaper):I(TV ** 1.25):I(radio ** 1.5)                                                       0.0000   0.0000  0.6650 0.5073 -0.0000 0.0000\n",
      "I(TV):I(TV ** 1.25):I(radio ** 1.5)                                                              0.0000   0.0001  0.5993 0.5501 -0.0001 0.0002\n",
      "I(newspaper):I(TV):I(TV ** 1.25):I(radio ** 1.5)                                                 0.0000   0.0001  0.3569 0.7218 -0.0001 0.0002\n",
      "I(radio):I(TV ** 1.25):I(radio ** 1.5)                                                          -0.0000   0.0000 -0.4995 0.6184 -0.0000 0.0000\n",
      "I(newspaper):I(radio):I(TV ** 1.25):I(radio ** 1.5)                                             -0.0000   0.0000 -0.3078 0.7588 -0.0000 0.0000\n",
      "I(TV):I(radio):I(TV ** 1.25):I(radio ** 1.5)                                                    -0.0000   0.0000 -0.3599 0.7196 -0.0000 0.0000\n",
      "I(newspaper):I(TV):I(radio):I(TV ** 1.25):I(radio ** 1.5)                                       -0.0000   0.0000 -0.0890 0.9292 -0.0000 0.0000\n",
      "I(newspaper ** 0.5)                                                                              0.0003   0.0003  1.2800 0.2031 -0.0002 0.0009\n",
      "I(newspaper):I(newspaper ** 0.5)                                                                 0.0001   0.0002  0.4288 0.6689 -0.0003 0.0005\n",
      "I(TV):I(newspaper ** 0.5)                                                                        0.0063   0.0118  0.5338 0.5945 -0.0170 0.0296\n",
      "I(newspaper):I(TV):I(newspaper ** 0.5)                                                           0.0119   0.0327  0.3630 0.7173 -0.0529 0.0767\n",
      "I(radio):I(newspaper ** 0.5)                                                                     0.0003   0.0004  0.7671 0.4446 -0.0004 0.0010\n",
      "I(newspaper):I(radio):I(newspaper ** 0.5)                                                       -0.0001   0.0002 -0.5437 0.5877 -0.0004 0.0002\n",
      "I(TV):I(radio):I(newspaper ** 0.5)                                                               0.0190   0.0512  0.3720 0.7106 -0.0823 0.1203\n",
      "I(newspaper):I(TV):I(radio):I(newspaper ** 0.5)                                                 -0.0131   0.0240 -0.5447 0.5870 -0.0606 0.0345\n",
      "I(TV ** 1.25):I(newspaper ** 0.5)                                                                0.0000   0.0000  0.4112 0.6817 -0.0001 0.0001\n",
      "I(newspaper):I(TV ** 1.25):I(newspaper ** 0.5)                                                   0.0000   0.0000  0.2263 0.8214 -0.0000 0.0000\n",
      "I(TV):I(TV ** 1.25):I(newspaper ** 0.5)                                                         -0.0001   0.0001 -1.1256 0.2627 -0.0003 0.0001\n",
      "I(newspaper):I(TV):I(TV ** 1.25):I(newspaper ** 0.5)                                            -0.0000   0.0001 -0.3800 0.7046 -0.0002 0.0001\n",
      "I(radio):I(TV ** 1.25):I(newspaper ** 0.5)                                                       0.0000   0.0000  0.6505 0.5167 -0.0000 0.0000\n",
      "I(newspaper):I(radio):I(TV ** 1.25):I(newspaper ** 0.5)                                          0.0000   0.0000  0.6190 0.5371 -0.0000 0.0000\n",
      "I(TV):I(radio):I(TV ** 1.25):I(newspaper ** 0.5)                                                 0.0000   0.0001  0.0063 0.9950 -0.0002 0.0002\n",
      "I(newspaper):I(TV):I(radio):I(TV ** 1.25):I(newspaper ** 0.5)                                    0.0000   0.0000  0.5558 0.5794 -0.0001 0.0001\n",
      "I(radio ** 1.5):I(newspaper ** 0.5)                                                             -0.0002   0.0003 -0.5094 0.6114 -0.0008 0.0005\n",
      "I(newspaper):I(radio ** 1.5):I(newspaper ** 0.5)                                                 0.0000   0.0000  0.5981 0.5509 -0.0001 0.0001\n",
      "I(TV):I(radio ** 1.5):I(newspaper ** 0.5)                                                       -0.0191   0.0489 -0.3905 0.6969 -0.1158 0.0777\n",
      "I(newspaper):I(TV):I(radio ** 1.5):I(newspaper ** 0.5)                                           0.0033   0.0055  0.6038 0.5471 -0.0076 0.0142\n",
      "I(radio):I(radio ** 1.5):I(newspaper ** 0.5)                                                     0.0000   0.0000  0.1358 0.8922 -0.0000 0.0000\n",
      "I(newspaper):I(radio):I(radio ** 1.5):I(newspaper ** 0.5)                                       -0.0000   0.0000 -0.4817 0.6309 -0.0000 0.0000\n",
      "I(TV):I(radio):I(radio ** 1.5):I(newspaper ** 0.5)                                               0.0003   0.0023  0.1178 0.9065 -0.0043 0.0048\n",
      "I(newspaper):I(TV):I(radio):I(radio ** 1.5):I(newspaper ** 0.5)                                 -0.0000   0.0001 -0.4858 0.6280 -0.0001 0.0001\n",
      "I(TV ** 1.25):I(radio ** 1.5):I(newspaper ** 0.5)                                               -0.0000   0.0000 -0.4945 0.6219 -0.0000 0.0000\n",
      "I(newspaper):I(TV ** 1.25):I(radio ** 1.5):I(newspaper ** 0.5)                                  -0.0000   0.0000 -0.7376 0.4623 -0.0000 0.0000\n",
      "I(TV):I(TV ** 1.25):I(radio ** 1.5):I(newspaper ** 0.5)                                          0.0000   0.0001  0.2908 0.7717 -0.0002 0.0002\n",
      "I(newspaper):I(TV):I(TV ** 1.25):I(radio ** 1.5):I(newspaper ** 0.5)                            -0.0000   0.0000 -0.6155 0.5395 -0.0000 0.0000\n",
      "I(radio):I(TV ** 1.25):I(radio ** 1.5):I(newspaper ** 0.5)                                       0.0000   0.0000  0.1229 0.9024 -0.0000 0.0000\n",
      "I(newspaper):I(radio):I(TV ** 1.25):I(radio ** 1.5):I(newspaper ** 0.5)                         -0.0000   0.0000 -0.1838 0.8545 -0.0000 0.0000\n",
      "I(TV):I(radio):I(TV ** 1.25):I(radio ** 1.5):I(newspaper ** 0.5)                                -0.0000   0.0000 -0.0963 0.9235 -0.0000 0.0000\n",
      "I(newspaper):I(TV):I(radio):I(TV ** 1.25):I(radio ** 1.5):I(newspaper ** 0.5)                    0.0000   0.0000  0.4995 0.6183 -0.0000 0.0000\n",
      "I(TV - TV.mean())                                                                               -0.0157   0.0364 -0.4307 0.6675 -0.0879 0.0565\n",
      "I(newspaper):I(TV - TV.mean())                                                                   0.0180   0.0180  0.9950 0.3218 -0.0178 0.0537\n",
      "I(TV):I(TV - TV.mean())                                                                         -0.0095   0.0227 -0.4177 0.6769 -0.0545 0.0355\n",
      "I(newspaper):I(TV):I(TV - TV.mean())                                                            -0.0023   0.0029 -0.7811 0.4363 -0.0081 0.0035\n",
      "I(radio):I(TV - TV.mean())                                                                       0.0449   0.0544  0.8245 0.4114 -0.0629 0.1527\n",
      "I(newspaper):I(radio):I(TV - TV.mean())                                                          0.0026   0.0067  0.3855 0.7006 -0.0107 0.0158\n",
      "I(TV):I(radio):I(TV - TV.mean())                                                                -0.0031   0.0055 -0.5653 0.5730 -0.0140 0.0078\n",
      "I(newspaper):I(TV):I(radio):I(TV - TV.mean())                                                    0.0000   0.0011  0.0251 0.9800 -0.0022 0.0022\n",
      "I(TV ** 1.25):I(TV - TV.mean())                                                                  0.0025   0.0081  0.3107 0.7566 -0.0135 0.0185\n",
      "I(newspaper):I(TV ** 1.25):I(TV - TV.mean())                                                     0.0007   0.0011  0.6601 0.5105 -0.0014 0.0028\n",
      "I(TV):I(TV ** 1.25):I(TV - TV.mean())                                                           -0.0000   0.0000 -0.2592 0.7959 -0.0000 0.0000\n",
      "I(newspaper):I(TV):I(TV ** 1.25):I(TV - TV.mean())                                              -0.0000   0.0000 -0.4534 0.6511 -0.0000 0.0000\n",
      "I(radio):I(TV ** 1.25):I(TV - TV.mean())                                                         0.0012   0.0018  0.6280 0.5312 -0.0025 0.0048\n",
      "I(newspaper):I(radio):I(TV ** 1.25):I(TV - TV.mean())                                            0.0002   0.0002  0.7589 0.4494 -0.0003 0.0006\n",
      "I(TV):I(radio):I(TV ** 1.25):I(TV - TV.mean())                                                  -0.0000   0.0000 -0.5770 0.5651 -0.0000 0.0000\n",
      "I(newspaper):I(TV):I(radio):I(TV ** 1.25):I(TV - TV.mean())                                     -0.0000   0.0000 -0.4326 0.6661 -0.0000 0.0000\n",
      "I(radio ** 1.5):I(TV - TV.mean())                                                               -0.0107   0.0143 -0.7504 0.4546 -0.0390 0.0175\n",
      "I(newspaper):I(radio ** 1.5):I(TV - TV.mean())                                                  -0.0008   0.0018 -0.4274 0.6699 -0.0043 0.0028\n",
      "I(TV):I(radio ** 1.5):I(TV - TV.mean())                                                          0.0007   0.0013  0.5412 0.5894 -0.0019 0.0033\n",
      "I(newspaper):I(TV):I(radio ** 1.5):I(TV - TV.mean())                                             0.0000   0.0003  0.0953 0.9242 -0.0005 0.0005\n",
      "I(radio):I(radio ** 1.5):I(TV - TV.mean())                                                       0.0001   0.0002  0.5234 0.6017 -0.0002 0.0004\n",
      "I(newspaper):I(radio):I(radio ** 1.5):I(TV - TV.mean())                                          0.0000   0.0000  0.2732 0.7852 -0.0000 0.0000\n",
      "I(TV):I(radio):I(radio ** 1.5):I(TV - TV.mean())                                                 0.0000   0.0000  0.0507 0.9597 -0.0000 0.0000\n",
      "I(newspaper):I(TV):I(radio):I(radio ** 1.5):I(TV - TV.mean())                                   -0.0000   0.0000 -0.1572 0.8754 -0.0000 0.0000\n",
      "I(TV ** 1.25):I(radio ** 1.5):I(TV - TV.mean())                                                 -0.0003   0.0004 -0.7715 0.4420 -0.0011 0.0005\n",
      "I(newspaper):I(TV ** 1.25):I(radio ** 1.5):I(TV - TV.mean())                                    -0.0000   0.0001 -0.8616 0.3907 -0.0002 0.0001\n",
      "I(TV):I(TV ** 1.25):I(radio ** 1.5):I(TV - TV.mean())                                            0.0000   0.0000  0.7346 0.4641 -0.0000 0.0000\n",
      "I(newspaper):I(TV):I(TV ** 1.25):I(radio ** 1.5):I(TV - TV.mean())                               0.0000   0.0000  0.6743 0.5015 -0.0000 0.0000\n",
      "I(radio):I(TV ** 1.25):I(radio ** 1.5):I(TV - TV.mean())                                         0.0000   0.0000  0.6122 0.5416 -0.0000 0.0000\n",
      "I(newspaper):I(radio):I(TV ** 1.25):I(radio ** 1.5):I(TV - TV.mean())                            0.0000   0.0000  0.4567 0.6487 -0.0000 0.0000\n",
      "I(TV):I(radio):I(TV ** 1.25):I(radio ** 1.5):I(TV - TV.mean())                                  -0.0000   0.0000 -0.6576 0.5121 -0.0000 0.0000\n",
      "I(newspaper):I(TV):I(radio):I(TV ** 1.25):I(radio ** 1.5):I(TV - TV.mean())                     -0.0000   0.0000 -0.8324 0.4069 -0.0000 0.0000\n",
      "I(newspaper ** 0.5):I(TV - TV.mean())                                                           -0.0438   0.0352 -1.2426 0.2165 -0.1136 0.0260\n",
      "I(newspaper):I(newspaper ** 0.5):I(TV - TV.mean())                                              -0.0018   0.0021 -0.8386 0.4034 -0.0060 0.0024\n",
      "I(TV):I(newspaper ** 0.5):I(TV - TV.mean())                                                      0.0077   0.0137  0.5594 0.5770 -0.0195 0.0348\n",
      "I(newspaper):I(TV):I(newspaper ** 0.5):I(TV - TV.mean())                                         0.0003   0.0003  1.0609 0.2909 -0.0002 0.0008\n",
      "I(radio):I(newspaper ** 0.5):I(TV - TV.mean())                                                  -0.0211   0.0337 -0.6264 0.5323 -0.0878 0.0456\n",
      "I(newspaper):I(radio):I(newspaper ** 0.5):I(TV - TV.mean())                                     -0.0001   0.0005 -0.1084 0.9138 -0.0010 0.0009\n",
      "I(TV):I(radio):I(newspaper ** 0.5):I(TV - TV.mean())                                             0.0020   0.0030  0.6690 0.5048 -0.0040 0.0080\n",
      "I(newspaper):I(TV):I(radio):I(newspaper ** 0.5):I(TV - TV.mean())                               -0.0001   0.0001 -0.4559 0.6493 -0.0003 0.0002\n",
      "I(TV ** 1.25):I(newspaper ** 0.5):I(TV - TV.mean())                                             -0.0022   0.0050 -0.4331 0.6658 -0.0120 0.0077\n",
      "I(newspaper):I(TV ** 1.25):I(newspaper ** 0.5):I(TV - TV.mean())                                -0.0001   0.0001 -0.5987 0.5505 -0.0002 0.0001\n",
      "I(TV):I(TV ** 1.25):I(newspaper ** 0.5):I(TV - TV.mean())                                        0.0000   0.0000  0.3210 0.7488 -0.0000 0.0000\n",
      "I(newspaper):I(TV):I(TV ** 1.25):I(newspaper ** 0.5):I(TV - TV.mean())                           0.0000   0.0000  0.6436 0.5211 -0.0000 0.0000\n",
      "I(radio):I(TV ** 1.25):I(newspaper ** 0.5):I(TV - TV.mean())                                    -0.0007   0.0011 -0.6756 0.5006 -0.0029 0.0014\n",
      "I(newspaper):I(radio):I(TV ** 1.25):I(newspaper ** 0.5):I(TV - TV.mean())                       -0.0000   0.0000 -0.6606 0.5102 -0.0001 0.0000\n",
      "I(TV):I(radio):I(TV ** 1.25):I(newspaper ** 0.5):I(TV - TV.mean())                               0.0000   0.0000  0.6458 0.5197 -0.0000 0.0000\n",
      "I(newspaper):I(TV):I(radio):I(TV ** 1.25):I(newspaper ** 0.5):I(TV - TV.mean())                  0.0000   0.0000  0.0629 0.9500 -0.0000 0.0000\n",
      "I(radio ** 1.5):I(newspaper ** 0.5):I(TV - TV.mean())                                            0.0053   0.0091  0.5780 0.5644 -0.0128 0.0233\n",
      "I(newspaper):I(radio ** 1.5):I(newspaper ** 0.5):I(TV - TV.mean())                               0.0000   0.0001  0.2631 0.7929 -0.0002 0.0003\n",
      "I(TV):I(radio ** 1.5):I(newspaper ** 0.5):I(TV - TV.mean())                                     -0.0006   0.0007 -0.8994 0.3703 -0.0020 0.0007\n",
      "I(newspaper):I(TV):I(radio ** 1.5):I(newspaper ** 0.5):I(TV - TV.mean())                         0.0000   0.0000  0.4327 0.6661 -0.0000 0.0001\n",
      "I(radio):I(radio ** 1.5):I(newspaper ** 0.5):I(TV - TV.mean())                                  -0.0000   0.0001 -0.3620 0.7180 -0.0002 0.0002\n",
      "I(newspaper):I(radio):I(radio ** 1.5):I(newspaper ** 0.5):I(TV - TV.mean())                     -0.0000   0.0000 -0.2191 0.8270 -0.0000 0.0000\n",
      "I(TV):I(radio):I(radio ** 1.5):I(newspaper ** 0.5):I(TV - TV.mean())                             0.0000   0.0000  0.4909 0.6244 -0.0000 0.0000\n",
      "I(newspaper):I(TV):I(radio):I(radio ** 1.5):I(newspaper ** 0.5):I(TV - TV.mean())               -0.0000   0.0000 -0.3505 0.7266 -0.0000 0.0000\n",
      "I(TV ** 1.25):I(radio ** 1.5):I(newspaper ** 0.5):I(TV - TV.mean())                              0.0002   0.0003  0.7102 0.4790 -0.0003 0.0007\n",
      "I(newspaper):I(TV ** 1.25):I(radio ** 1.5):I(newspaper ** 0.5):I(TV - TV.mean())                 0.0000   0.0000  0.8780 0.3817 -0.0000 0.0000\n",
      "I(TV):I(TV ** 1.25):I(radio ** 1.5):I(newspaper ** 0.5):I(TV - TV.mean())                       -0.0000   0.0000 -0.8979 0.3711 -0.0000 0.0000\n",
      "I(newspaper):I(TV):I(TV ** 1.25):I(radio ** 1.5):I(newspaper ** 0.5):I(TV - TV.mean())          -0.0000   0.0000 -0.2280 0.8200 -0.0000 0.0000\n",
      "I(radio):I(TV ** 1.25):I(radio ** 1.5):I(newspaper ** 0.5):I(TV - TV.mean())                    -0.0000   0.0000 -0.3823 0.7029 -0.0000 0.0000\n",
      "I(newspaper):I(radio):I(TV ** 1.25):I(radio ** 1.5):I(newspaper ** 0.5):I(TV - TV.mean())       -0.0000   0.0000 -0.7254 0.4697 -0.0000 0.0000\n",
      "I(TV):I(radio):I(TV ** 1.25):I(radio ** 1.5):I(newspaper ** 0.5):I(TV - TV.mean())               0.0000   0.0000  0.9971 0.3208 -0.0000 0.0000\n",
      "I(newspaper):I(TV):I(radio):I(TV ** 1.25):I(radio ** 1.5):I(newspaper ** 0.5):I(TV - TV.mean())  0.0000   0.0000  0.3565 0.7221 -0.0000 0.0000\n",
      "----------------------------------------------------------------------------------------------------------------------------------------------\n",
      "Omnibus:                                    8.964                             Durbin-Watson:                                2.315             \n",
      "Prob(Omnibus):                              0.011                             Jarque-Bera (JB):                             17.749            \n",
      "Skew:                                       0.052                             Prob(JB):                                     0.000             \n",
      "Kurtosis:                                   4.456                             Condition No.:                                166065031755680640\n",
      "==============================================================================================================================================\n",
      "* The condition number is large (2e+17). This might indicate             strong multicollinearity or other numerical problems.\n"
     ]
    }
   ],
   "source": [
    "import statsmodels.formula.api as smf\n",
    "\n",
    "# formula: response ~ predictor + predictor\n",
    "est = smf.ols(formula='sales ~ I(newspaper)*I(TV)*I(radio)*I(TV ** 1.25)*I(radio**1.5)*I(newspaper**0.5)*I(TV - TV.mean())', data=df_adv).fit()\n",
    "print((est.summary2()))"
   ]
  },
  {
   "cell_type": "code",
   "execution_count": 6,
   "metadata": {},
   "outputs": [
    {
     "data": {
      "text/plain": [
       "'0.8.0'"
      ]
     },
     "execution_count": 6,
     "metadata": {},
     "output_type": "execute_result"
    }
   ],
   "source": [
    "import statsmodels \n",
    "statsmodels.__version__ "
   ]
  },
  {
   "cell_type": "code",
   "execution_count": 7,
   "metadata": {},
   "outputs": [
    {
     "data": {
      "text/plain": [
       "'0.23.3'"
      ]
     },
     "execution_count": 7,
     "metadata": {},
     "output_type": "execute_result"
    }
   ],
   "source": [
    "import pandas \n",
    "pandas.__version__ "
   ]
  },
  {
   "cell_type": "code",
   "execution_count": null,
   "metadata": {
    "collapsed": true
   },
   "outputs": [],
   "source": [
    "import statsmodels.formula.api as smf\n",
    "\n",
    "# formula: response ~ predictor + predictor\n",
    "est = smf.ols(formula='sales ~ I(newspaper)*I(TV)*I(radio)*I(TV ** 1.25)*I(radio**1.5)*I(newspaper**0.5)*I(TV - TV.mean())', data=df_adv).fit()\n",
    "print((est.summary2()))"
   ]
  }
 ],
 "metadata": {
  "kernelspec": {
   "display_name": "Python 3",
   "language": "python",
   "name": "python3"
  },
  "language_info": {
   "codemirror_mode": {
    "name": "ipython",
    "version": 3
   },
   "file_extension": ".py",
   "mimetype": "text/x-python",
   "name": "python",
   "nbconvert_exporter": "python",
   "pygments_lexer": "ipython3",
   "version": "3.7.3"
  }
 },
 "nbformat": 4,
 "nbformat_minor": 2
}
